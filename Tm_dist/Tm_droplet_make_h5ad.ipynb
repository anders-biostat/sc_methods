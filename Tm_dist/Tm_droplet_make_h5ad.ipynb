{
 "cells": [
  {
   "cell_type": "markdown",
   "metadata": {},
   "source": [
    "# Importing Tabula Muris data to Scanpy\n",
    "\n",
    "Simon Anders, 2018-06\n",
    "\n",
    "This Notebook shows how to import the Tabula Muris data into Scanpy\n",
    "\n",
    "The Tabula Muris project has sequenced around 100k cells from various mouse tissues using the SmartSeq2 and the 10X Dropseq platforms. See this paper: \n",
    "\n",
    "  The Tabula Muris Consortium: Transcriptomic characterization of 20 organs and tissues from mouse at single cell resolution creates a Tabula Muris. BioArxiv, 2018. doi: https://doi.org/10.1101/237446\n",
    "  \n",
    "The dropseq data is available from figshare at doi https://doi.org/10.6084/m9.figshare.5968960.v2 . \n",
    "\n",
    "Download the three files found there, unpack the zip archive, and then, you can run this notebook.\n"
   ]
  },
  {
   "cell_type": "markdown",
   "metadata": {},
   "source": [
    "First, load the packages. I use here Python 3.6.5 and Scanpy 1.0.4, as well as Numpy 1.14.3 and Pandas 0.23.0."
   ]
  },
  {
   "cell_type": "code",
   "execution_count": 2,
   "metadata": {},
   "outputs": [],
   "source": [
    "import os\n",
    "import numpy as np\n",
    "import pandas as pd\n",
    "import scanpy.api as sc"
   ]
  },
  {
   "cell_type": "markdown",
   "metadata": {},
   "source": [
    "Now, load the file with the cell type assignments, provided at figshare as \"annotation_droplet.csv\": "
   ]
  },
  {
   "cell_type": "code",
   "execution_count": 4,
   "metadata": {},
   "outputs": [
    {
     "name": "stderr",
     "output_type": "stream",
     "text": [
      "/usr/local/lib/python3.6/dist-packages/IPython/core/interactiveshell.py:2785: DtypeWarning: Columns (10) have mixed types. Specify dtype option on import or set low_memory=False.\n",
      "  interactivity=interactivity, compiler=compiler, result=result)\n"
     ]
    },
    {
     "data": {
      "text/html": [
       "<div>\n",
       "<style scoped>\n",
       "    .dataframe tbody tr th:only-of-type {\n",
       "        vertical-align: middle;\n",
       "    }\n",
       "\n",
       "    .dataframe tbody tr th {\n",
       "        vertical-align: top;\n",
       "    }\n",
       "\n",
       "    .dataframe thead th {\n",
       "        text-align: right;\n",
       "    }\n",
       "</style>\n",
       "<table border=\"1\" class=\"dataframe\">\n",
       "  <thead>\n",
       "    <tr style=\"text-align: right;\">\n",
       "      <th></th>\n",
       "      <th>cell</th>\n",
       "      <th>cell_ontology_class</th>\n",
       "      <th>cell_ontology_id</th>\n",
       "      <th>channel</th>\n",
       "      <th>cluster.ids</th>\n",
       "      <th>free_annotation</th>\n",
       "      <th>mouse.id</th>\n",
       "      <th>mouse.sex</th>\n",
       "      <th>subsetA</th>\n",
       "      <th>subsetA_cluster.ids</th>\n",
       "      <th>subsetB</th>\n",
       "      <th>subsetB_cluster.ids</th>\n",
       "      <th>subtissue</th>\n",
       "      <th>tissue</th>\n",
       "      <th>tissue_tSNE_1</th>\n",
       "      <th>tissue_tSNE_2</th>\n",
       "    </tr>\n",
       "  </thead>\n",
       "  <tbody>\n",
       "    <tr>\n",
       "      <th>0</th>\n",
       "      <td>b'10X_P7_8_AAACGGGAGGATATAC'</td>\n",
       "      <td>myeloid cell</td>\n",
       "      <td>CL:0000763</td>\n",
       "      <td>10X_P7_8</td>\n",
       "      <td>20</td>\n",
       "      <td>dendritic cells and interstital macrophages</td>\n",
       "      <td>3-F-56</td>\n",
       "      <td>F</td>\n",
       "      <td>NaN</td>\n",
       "      <td>NaN</td>\n",
       "      <td>NaN</td>\n",
       "      <td>NaN</td>\n",
       "      <td>NaN</td>\n",
       "      <td>Lung</td>\n",
       "      <td>17.024721</td>\n",
       "      <td>-32.902836</td>\n",
       "    </tr>\n",
       "    <tr>\n",
       "      <th>1</th>\n",
       "      <td>b'10X_P7_8_AAACGGGTCTCGTATT'</td>\n",
       "      <td>alveolar macrophage</td>\n",
       "      <td>CL:0000583</td>\n",
       "      <td>10X_P7_8</td>\n",
       "      <td>5</td>\n",
       "      <td>NaN</td>\n",
       "      <td>3-F-56</td>\n",
       "      <td>F</td>\n",
       "      <td>NaN</td>\n",
       "      <td>NaN</td>\n",
       "      <td>NaN</td>\n",
       "      <td>NaN</td>\n",
       "      <td>NaN</td>\n",
       "      <td>Lung</td>\n",
       "      <td>25.160619</td>\n",
       "      <td>25.066566</td>\n",
       "    </tr>\n",
       "    <tr>\n",
       "      <th>2</th>\n",
       "      <td>b'10X_P7_8_AAAGATGCAGATCTGT'</td>\n",
       "      <td>B cell</td>\n",
       "      <td>CL:0000236</td>\n",
       "      <td>10X_P7_8</td>\n",
       "      <td>12</td>\n",
       "      <td>NaN</td>\n",
       "      <td>3-F-56</td>\n",
       "      <td>F</td>\n",
       "      <td>NaN</td>\n",
       "      <td>NaN</td>\n",
       "      <td>NaN</td>\n",
       "      <td>NaN</td>\n",
       "      <td>NaN</td>\n",
       "      <td>Lung</td>\n",
       "      <td>1.740567</td>\n",
       "      <td>46.488878</td>\n",
       "    </tr>\n",
       "    <tr>\n",
       "      <th>3</th>\n",
       "      <td>b'10X_P7_8_AAATGCCAGATAGTCA'</td>\n",
       "      <td>natural killer cell</td>\n",
       "      <td>CL:0000623</td>\n",
       "      <td>10X_P7_8</td>\n",
       "      <td>7</td>\n",
       "      <td>NaN</td>\n",
       "      <td>3-F-56</td>\n",
       "      <td>F</td>\n",
       "      <td>NaN</td>\n",
       "      <td>NaN</td>\n",
       "      <td>NaN</td>\n",
       "      <td>NaN</td>\n",
       "      <td>NaN</td>\n",
       "      <td>Lung</td>\n",
       "      <td>-31.647934</td>\n",
       "      <td>-2.208061</td>\n",
       "    </tr>\n",
       "    <tr>\n",
       "      <th>4</th>\n",
       "      <td>b'10X_P7_8_AAATGCCCAAACTGCT'</td>\n",
       "      <td>T cell</td>\n",
       "      <td>CL:0000084</td>\n",
       "      <td>10X_P7_8</td>\n",
       "      <td>21</td>\n",
       "      <td>NaN</td>\n",
       "      <td>3-F-56</td>\n",
       "      <td>F</td>\n",
       "      <td>NaN</td>\n",
       "      <td>NaN</td>\n",
       "      <td>NaN</td>\n",
       "      <td>NaN</td>\n",
       "      <td>NaN</td>\n",
       "      <td>Lung</td>\n",
       "      <td>-37.281266</td>\n",
       "      <td>-5.619565</td>\n",
       "    </tr>\n",
       "  </tbody>\n",
       "</table>\n",
       "</div>"
      ],
      "text/plain": [
       "                           cell  cell_ontology_class cell_ontology_id  \\\n",
       "0  b'10X_P7_8_AAACGGGAGGATATAC'         myeloid cell       CL:0000763   \n",
       "1  b'10X_P7_8_AAACGGGTCTCGTATT'  alveolar macrophage       CL:0000583   \n",
       "2  b'10X_P7_8_AAAGATGCAGATCTGT'               B cell       CL:0000236   \n",
       "3  b'10X_P7_8_AAATGCCAGATAGTCA'  natural killer cell       CL:0000623   \n",
       "4  b'10X_P7_8_AAATGCCCAAACTGCT'               T cell       CL:0000084   \n",
       "\n",
       "    channel  cluster.ids                              free_annotation  \\\n",
       "0  10X_P7_8           20  dendritic cells and interstital macrophages   \n",
       "1  10X_P7_8            5                                          NaN   \n",
       "2  10X_P7_8           12                                          NaN   \n",
       "3  10X_P7_8            7                                          NaN   \n",
       "4  10X_P7_8           21                                          NaN   \n",
       "\n",
       "  mouse.id mouse.sex subsetA  subsetA_cluster.ids subsetB  \\\n",
       "0   3-F-56         F     NaN                  NaN     NaN   \n",
       "1   3-F-56         F     NaN                  NaN     NaN   \n",
       "2   3-F-56         F     NaN                  NaN     NaN   \n",
       "3   3-F-56         F     NaN                  NaN     NaN   \n",
       "4   3-F-56         F     NaN                  NaN     NaN   \n",
       "\n",
       "   subsetB_cluster.ids subtissue tissue  tissue_tSNE_1  tissue_tSNE_2  \n",
       "0                  NaN       NaN   Lung      17.024721     -32.902836  \n",
       "1                  NaN       NaN   Lung      25.160619      25.066566  \n",
       "2                  NaN       NaN   Lung       1.740567      46.488878  \n",
       "3                  NaN       NaN   Lung     -31.647934      -2.208061  \n",
       "4                  NaN       NaN   Lung     -37.281266      -5.619565  "
      ]
     },
     "execution_count": 4,
     "metadata": {},
     "output_type": "execute_result"
    }
   ],
   "source": [
    "anno = pd.read_csv( \"annotations_droplet.csv\" )\n",
    "anno[\"cell\"] = anno[\"cell\"].apply( lambda x: bytes(x, \"UTF8\") )\n",
    "anno.head()"
   ]
  },
  {
   "cell_type": "markdown",
   "metadata": {},
   "source": [
    "Next, we read in the contents up the 'droplet' folder that you get from unpacking the file 'droplets.zip'. The following function processes one of the subdirectories therein, using Scanpy's 'read' data to read the counts, which are found in the directory in the 10X format."
   ]
  },
  {
   "cell_type": "code",
   "execution_count": 28,
   "metadata": {},
   "outputs": [],
   "source": [
    "# This function reads one subdirectory of the \"droplet\" data directory of the\n",
    "# Tabula muris data, i.e., one \"channel\".\n",
    "\n",
    "def read_Tm_10x( dirname, path = \"droplet\" ):\n",
    "    \n",
    "    # Read the sparse matrix:\n",
    "    a = sc.read( os.path.join( path, dirname, \"matrix.mtx\" ) ).transpose()\n",
    "    \n",
    "    # Add the barcodes and gene symbols:\n",
    "    a.obs_names = pd.read_table( os.path.join( path, dirname, \"barcodes.tsv\" ), header=None )[0]\n",
    "    a.var_names = pd.read_table( os.path.join( path, dirname, \"genes.tsv\" ), header=None )[0]\n",
    "    \n",
    "    # The diname has the format \"tisse-channel\"\n",
    "    assert len( dirname.split(\"-\") ) == 2 \n",
    "    \n",
    "    # Remove \"-1\" label from cell barcodes, prefix channel:\n",
    "    a.obs_names = np.fromiter( [ dirname.split(\"-\")[1] + \"_\" + s.replace( \"-1\", \"\" ) \n",
    "       for s in a.obs_names ], 'S32' )\n",
    "    \n",
    "    # Look these up in the annotation table and keep only those found\n",
    "    # This is necessary because 4 of the dropseq directrories contain superfluous barcodes\n",
    "    annotated_cells = set( anno[\"cell\"].values )\n",
    "    a = a[ np.fromiter( ( s in annotated_cells for s in a.obs_names ), dtype=bool ), ]    \n",
    "    \n",
    "    # Store the data from the dirname\n",
    "    a.obs[\"tissue\"] = dirname.split(\"-\")[0]\n",
    "    a.obs[\"channel\"] = dirname.split(\"-\")[1]\n",
    "    \n",
    "    # Merge in the annotation data\n",
    "    a.obs = a.obs.merge( anno, how=\"left\", left_index=True, right_on=\"cell\", \n",
    "        suffixes=(\"\",\".y\") ).set_index( \"cell\" )\n",
    "    \n",
    "    # Remove unnecessary columns\n",
    "    assert all( a.obs[\"tissue\"] == a.obs[\"tissue.y\"] )\n",
    "    a.obs = a.obs.drop( columns = [ \"tissue.y\" ] )\n",
    "\n",
    "    return a"
   ]
  },
  {
   "cell_type": "code",
   "execution_count": 29,
   "metadata": {},
   "outputs": [
    {
     "data": {
      "text/plain": [
       "['Bladder-10X_P4_3',\n",
       " 'Bladder-10X_P4_4',\n",
       " 'Bladder-10X_P7_7',\n",
       " 'Heart_and_Aorta-10X_P7_4',\n",
       " 'Kidney-10X_P4_5',\n",
       " 'Kidney-10X_P4_6',\n",
       " 'Kidney-10X_P7_5',\n",
       " 'Limb_Muscle-10X_P7_14',\n",
       " 'Limb_Muscle-10X_P7_15',\n",
       " 'Liver-10X_P4_2',\n",
       " 'Liver-10X_P7_0',\n",
       " 'Liver-10X_P7_1',\n",
       " 'Lung-10X_P7_8',\n",
       " 'Lung-10X_P7_9',\n",
       " 'Lung-10X_P8_12',\n",
       " 'Lung-10X_P8_13',\n",
       " 'Mammary_Gland-10X_P7_12',\n",
       " 'Mammary_Gland-10X_P7_13',\n",
       " 'Marrow-10X_P7_2',\n",
       " 'Marrow-10X_P7_3',\n",
       " 'Spleen-10X_P4_7',\n",
       " 'Spleen-10X_P7_6',\n",
       " 'Thymus-10X_P7_11',\n",
       " 'Tongue-10X_P4_0',\n",
       " 'Tongue-10X_P4_1',\n",
       " 'Tongue-10X_P7_10',\n",
       " 'Trachea-10X_P8_14',\n",
       " 'Trachea-10X_P8_15']"
      ]
     },
     "execution_count": 29,
     "metadata": {},
     "output_type": "execute_result"
    }
   ],
   "source": [
    "path10x = \"droplet\"\n",
    "dirs10x = sorted( os.listdir( path10x ) )\n",
    "dirs10x = [ x for x in dirs10x if not x.startswith(\".\") ]   # get rid of spurious semi-hidden MacOS files\n",
    "dirs10x"
   ]
  },
  {
   "cell_type": "markdown",
   "metadata": {},
   "source": [
    "This loop now reads all the subdirectories in the 'droplets' folders, with the actual count data. We cat back one big Scanpy AnnData object."
   ]
  },
  {
   "cell_type": "code",
   "execution_count": 30,
   "metadata": {},
   "outputs": [
    {
     "name": "stdout",
     "output_type": "stream",
     "text": [
      "Read Bladder-10X_P4_3.\n",
      "Read Bladder-10X_P4_4.\n",
      "Read Bladder-10X_P7_7.\n",
      "Read Heart_and_Aorta-10X_P7_4.\n",
      "Read Kidney-10X_P4_5.\n",
      "Read Kidney-10X_P4_6.\n",
      "Read Kidney-10X_P7_5.\n",
      "Read Limb_Muscle-10X_P7_14.\n",
      "Read Limb_Muscle-10X_P7_15.\n",
      "Read Liver-10X_P4_2.\n",
      "Read Liver-10X_P7_0.\n",
      "Read Liver-10X_P7_1.\n",
      "Read Lung-10X_P7_8.\n",
      "Read Lung-10X_P7_9.\n",
      "Read Lung-10X_P8_12.\n",
      "Read Lung-10X_P8_13.\n",
      "Read Mammary_Gland-10X_P7_12.\n",
      "Read Mammary_Gland-10X_P7_13.\n",
      "Read Marrow-10X_P7_2.\n",
      "Read Marrow-10X_P7_3.\n",
      "Read Spleen-10X_P4_7.\n",
      "Read Spleen-10X_P7_6.\n",
      "Read Thymus-10X_P7_11.\n",
      "Read Tongue-10X_P4_0.\n",
      "Read Tongue-10X_P4_1.\n",
      "Read Tongue-10X_P7_10.\n",
      "Read Trachea-10X_P8_14.\n",
      "Read Trachea-10X_P8_15.\n"
     ]
    },
    {
     "data": {
      "text/plain": [
       "AnnData object with n_obs × n_vars = 55656 × 23433 \n",
       "    obs: 'tissue', 'channel', 'cell_ontology_class', 'cell_ontology_id', 'channel.y', 'cluster.ids', 'free_annotation', 'mouse.id', 'mouse.sex', 'subsetA', 'subsetA_cluster.ids', 'subsetB', 'subsetB_cluster.ids', 'subtissue', 'tissue_tSNE_1', 'tissue_tSNE_2', 'batch'"
      ]
     },
     "execution_count": 30,
     "metadata": {},
     "output_type": "execute_result"
    }
   ],
   "source": [
    "ac = read_Tm_10x( dirs10x[0], path10x )\n",
    "print( f\"Read {dirs10x[0]}.\")\n",
    "for d in dirs10x[1:]:\n",
    "    a2 = read_Tm_10x( d, path10x )\n",
    "    assert( all( ac.var_names == a2.var_names ) )\n",
    "    ac = ac.concatenate( a2, index_unique=None )\n",
    "    print( f\"Read {d}.\")\n",
    "del a2\n",
    "\n",
    "ac"
   ]
  },
  {
   "cell_type": "markdown",
   "metadata": {},
   "source": [
    "Finally, load the plate metadata from the file 'metadata_droplet.csv', which can also be found in the figshare archive and merge it to the AnnData object"
   ]
  },
  {
   "cell_type": "code",
   "execution_count": 31,
   "metadata": {},
   "outputs": [
    {
     "data": {
      "text/html": [
       "<div>\n",
       "<style scoped>\n",
       "    .dataframe tbody tr th:only-of-type {\n",
       "        vertical-align: middle;\n",
       "    }\n",
       "\n",
       "    .dataframe tbody tr th {\n",
       "        vertical-align: top;\n",
       "    }\n",
       "\n",
       "    .dataframe thead th {\n",
       "        text-align: right;\n",
       "    }\n",
       "</style>\n",
       "<table border=\"1\" class=\"dataframe\">\n",
       "  <thead>\n",
       "    <tr style=\"text-align: right;\">\n",
       "      <th></th>\n",
       "      <th>channel</th>\n",
       "      <th>mouse.id</th>\n",
       "      <th>tissue</th>\n",
       "      <th>subtissue</th>\n",
       "      <th>mouse.sex</th>\n",
       "    </tr>\n",
       "  </thead>\n",
       "  <tbody>\n",
       "    <tr>\n",
       "      <th>0</th>\n",
       "      <td>10X_P4_0</td>\n",
       "      <td>3-M-8</td>\n",
       "      <td>Tongue</td>\n",
       "      <td>NaN</td>\n",
       "      <td>M</td>\n",
       "    </tr>\n",
       "    <tr>\n",
       "      <th>1</th>\n",
       "      <td>10X_P4_1</td>\n",
       "      <td>3-M-9</td>\n",
       "      <td>Tongue</td>\n",
       "      <td>NaN</td>\n",
       "      <td>M</td>\n",
       "    </tr>\n",
       "    <tr>\n",
       "      <th>2</th>\n",
       "      <td>10X_P4_2</td>\n",
       "      <td>3-M-8/9</td>\n",
       "      <td>Liver</td>\n",
       "      <td>hepatocytes</td>\n",
       "      <td>M</td>\n",
       "    </tr>\n",
       "    <tr>\n",
       "      <th>3</th>\n",
       "      <td>10X_P4_3</td>\n",
       "      <td>3-M-8</td>\n",
       "      <td>Bladder</td>\n",
       "      <td>NaN</td>\n",
       "      <td>M</td>\n",
       "    </tr>\n",
       "    <tr>\n",
       "      <th>4</th>\n",
       "      <td>10X_P4_4</td>\n",
       "      <td>3-M-9</td>\n",
       "      <td>Bladder</td>\n",
       "      <td>NaN</td>\n",
       "      <td>M</td>\n",
       "    </tr>\n",
       "  </tbody>\n",
       "</table>\n",
       "</div>"
      ],
      "text/plain": [
       "    channel mouse.id   tissue    subtissue mouse.sex\n",
       "0  10X_P4_0    3-M-8   Tongue          NaN         M\n",
       "1  10X_P4_1    3-M-9   Tongue          NaN         M\n",
       "2  10X_P4_2  3-M-8/9    Liver  hepatocytes         M\n",
       "3  10X_P4_3    3-M-8  Bladder          NaN         M\n",
       "4  10X_P4_4    3-M-9  Bladder          NaN         M"
      ]
     },
     "execution_count": 31,
     "metadata": {},
     "output_type": "execute_result"
    }
   ],
   "source": [
    "# Load channel metadata\n",
    "meta = pd.read_csv( \"metadata_droplet.csv\" )\n",
    "meta.head()"
   ]
  },
  {
   "cell_type": "code",
   "execution_count": 14,
   "metadata": {},
   "outputs": [],
   "source": [
    "# Merge in channel metadata\n",
    "ac.obs = ac.obs.merge( meta, how=\"left\", on=\"channel\" )"
   ]
  },
  {
   "cell_type": "markdown",
   "metadata": {},
   "source": [
    "Now, write out the object in Scanpy's h5ad format."
   ]
  },
  {
   "cell_type": "code",
   "execution_count": 15,
   "metadata": {
    "scrolled": true
   },
   "outputs": [],
   "source": [
    "ac.write( \"Tabula_muris_10x.h5ad\" )"
   ]
  }
 ],
 "metadata": {
  "kernelspec": {
   "display_name": "Python 3.6",
   "language": "python",
   "name": "python3.6"
  },
  "language_info": {
   "codemirror_mode": {
    "name": "ipython",
    "version": 3
   },
   "file_extension": ".py",
   "mimetype": "text/x-python",
   "name": "python",
   "nbconvert_exporter": "python",
   "pygments_lexer": "ipython3",
   "version": "3.6.5"
  }
 },
 "nbformat": 4,
 "nbformat_minor": 2
}
