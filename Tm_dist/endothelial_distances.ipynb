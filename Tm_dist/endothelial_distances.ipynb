{
 "cells": [
  {
   "cell_type": "code",
   "execution_count": 1,
   "metadata": {},
   "outputs": [
    {
     "name": "stderr",
     "output_type": "stream",
     "text": [
      "/home/anders/.local/lib/python3.6/site-packages/h5py/__init__.py:36: FutureWarning: Conversion of the second argument of issubdtype from `float` to `np.floating` is deprecated. In future, it will be treated as `np.float64 == np.dtype(float).type`.\n",
      "  from ._conv import register_converters as _register_converters\n"
     ]
    }
   ],
   "source": [
    "import numpy as np\n",
    "import scipy as sp\n",
    "import pandas as pd\n",
    "import scanpy.api as sc\n",
    "import matplotlib.pyplot as plt\n",
    "import seaborn\n",
    "import itertools as it"
   ]
  },
  {
   "cell_type": "code",
   "execution_count": 2,
   "metadata": {},
   "outputs": [
    {
     "data": {
      "text/plain": [
       "AnnData object with n_obs × n_vars = 55656 × 23433 \n",
       "    obs: 'tissue', 'channel', 'cell_ontology_class', 'cell_ontology_id', 'channel.y', 'cluster.ids', 'free_annotation', 'mouse.id', 'mouse.sex', 'subsetA', 'subsetA_cluster.ids', 'subsetB', 'subsetB_cluster.ids', 'subtissue', 'tissue_tSNE_1', 'tissue_tSNE_2', 'batch'"
      ]
     },
     "execution_count": 2,
     "metadata": {},
     "output_type": "execute_result"
    }
   ],
   "source": [
    "cnts = sc.read_h5ad( \"Tabula_muris_10x.h5ad\" )\n",
    "cnts"
   ]
  },
  {
   "cell_type": "code",
   "execution_count": 21,
   "metadata": {},
   "outputs": [
    {
     "data": {
      "text/plain": [
       "scipy.sparse.csr.csr_matrix"
      ]
     },
     "execution_count": 21,
     "metadata": {},
     "output_type": "execute_result"
    }
   ],
   "source": [
    "cnts.X.__class__"
   ]
  },
  {
   "cell_type": "code",
   "execution_count": 23,
   "metadata": {},
   "outputs": [
    {
     "data": {
      "text/plain": [
       "AnnData object with n_obs × n_vars = 23433 × 55656 \n",
       "    var: 'tissue', 'channel', 'cell_ontology_class', 'cell_ontology_id', 'channel.y', 'cluster.ids', 'free_annotation', 'mouse.id', 'mouse.sex', 'subsetA', 'subsetA_cluster.ids', 'subsetB', 'subsetB_cluster.ids', 'subtissue', 'tissue_tSNE_1', 'tissue_tSNE_2', 'batch'"
      ]
     },
     "execution_count": 23,
     "metadata": {},
     "output_type": "execute_result"
    }
   ],
   "source": [
    "cntsT = cnts.transpose()\n",
    "cntsT"
   ]
  },
  {
   "cell_type": "code",
   "execution_count": 24,
   "metadata": {},
   "outputs": [
    {
     "data": {
      "text/plain": [
       "scipy.sparse.csr.csr_matrix"
      ]
     },
     "execution_count": 24,
     "metadata": {},
     "output_type": "execute_result"
    }
   ],
   "source": [
    "cntsT.X.__class__"
   ]
  },
  {
   "cell_type": "code",
   "execution_count": 25,
   "metadata": {},
   "outputs": [
    {
     "data": {
      "text/plain": [
       "Index(['10X_P4_3_CCGTTCAGTTCCCTTG', '10X_P4_4_ACTGAGTGTTGCGTTA',\n",
       "       '10X_P4_4_ATCTACTAGGCAATTA', '10X_P4_4_CATGACAAGGACTGGT',\n",
       "       '10X_P4_4_CCTAAAGAGCTCCTTC', '10X_P4_4_CGATCGGAGTGGAGTC',\n",
       "       '10X_P4_4_GAATGAAAGCTTATCG', '10X_P4_4_GCACTCTCAGCGATCC',\n",
       "       '10X_P4_4_GCTTCCAAGTCCTCCT', '10X_P4_4_GTCCTCATCATGTGGT',\n",
       "       ...\n",
       "       '10X_P8_15_GCTGCAGCAGGGAGAG', '10X_P8_15_GGGAGATCACTTCTGC',\n",
       "       '10X_P8_15_GGTGTTAAGATCCCGC', '10X_P8_15_GTAACGTGTAATAGCA',\n",
       "       '10X_P8_15_TAGAGCTAGTTTAGGA', '10X_P8_15_TCAACGACATTCCTGC',\n",
       "       '10X_P8_15_TCGTAGAAGCTTATCG', '10X_P8_15_TTGCCGTGTCAACTGT',\n",
       "       '10X_P8_15_TTGTAGGCATCAGTCA', '10X_P8_15_TTTGTCAGTTGTCGCG'],\n",
       "      dtype='object', name='index', length=915)"
      ]
     },
     "execution_count": 25,
     "metadata": {},
     "output_type": "execute_result"
    }
   ],
   "source": [
    "endo_gold = cnts.obs_names[ ( cntsT[\"Pecam1\",:].X > 3 ) & ( cntsT[\"Cdh5\",:].X > 3 ) ]\n",
    "endo_gold"
   ]
  },
  {
   "cell_type": "code",
   "execution_count": 26,
   "metadata": {},
   "outputs": [],
   "source": [
    "exprs = cnts.copy()\n",
    "exprs.X = sp.sparse.vstack( np.sqrt( cnts.X[i,:] ) / np.sqrt( cnts.X[i,:].sum() ) for i in range(cnts.n_obs) )"
   ]
  },
  {
   "cell_type": "code",
   "execution_count": 27,
   "metadata": {},
   "outputs": [],
   "source": [
    "a = exprs[ endo_gold, : ].X\n",
    "endo_gold_dists = ( a * a.transpose() ).todense() \n",
    "assert endo_gold_dists.max() < 1.001\n",
    "endo_gold_dists[ endo_gold_dists > 1 ] = 1\n",
    "endo_gold_dists = np.arccos( endo_gold_dists ) / ( np.pi / 2 )"
   ]
  },
  {
   "cell_type": "code",
   "execution_count": 28,
   "metadata": {},
   "outputs": [
    {
     "data": {
      "image/png": "[encoded data removed]",
      "text/plain": [
       "<Figure size 432x288 with 1 Axes>"
      ]
     },
     "metadata": {},
     "output_type": "display_data"
    }
   ],
   "source": [
    "plt.hist( endo_gold_dists.flat, 300, range=(0,1) );"
   ]
  },
  {
   "cell_type": "code",
   "execution_count": 29,
   "metadata": {},
   "outputs": [],
   "source": [
    "a = exprs[ np.random.choice( exprs.obs_names, endo_gold.shape[0] ), : ].X\n",
    "dists_sample = ( a * a.transpose() ).todense() \n",
    "assert dists_sample.max() < 1.001\n",
    "dists_sample[ dists_sample > 1 ] = 1\n",
    "dists_sample = np.arccos( dists_sample ) / ( np.pi/2 )"
   ]
  },
  {
   "cell_type": "code",
   "execution_count": 30,
   "metadata": {},
   "outputs": [
    {
     "data": {
      "image/png": "[encoded data removed]",
      "text/plain": [
       "<Figure size 432x288 with 1 Axes>"
      ]
     },
     "metadata": {},
     "output_type": "display_data"
    }
   ],
   "source": [
    "plt.hist( dists_sample.flat, 300, range=(0,1) );"
   ]
  },
  {
   "cell_type": "code",
   "execution_count": 31,
   "metadata": {},
   "outputs": [
    {
     "data": {
      "image/png": "[encoded data removed]",
      "text/plain": [
       "<Figure size 432x288 with 1 Axes>"
      ]
     },
     "metadata": {},
     "output_type": "display_data"
    }
   ],
   "source": [
    "plt.hist( [ np.asarray(dists_sample).flatten(), np.asarray(endo_gold_dists).flatten() ], \n",
    "         bins=300, range=(0,1), histtype=\"step\" );"
   ]
  },
  {
   "cell_type": "code",
   "execution_count": 41,
   "metadata": {},
   "outputs": [],
   "source": [
    "a = ( exprs.X * exprs.X[17864,:].transpose() ).todense()\n",
    "a[ a>1 ] = 1\n",
    "a = np.arccos( a ) / ( np.pi / 2 )"
   ]
  },
  {
   "cell_type": "code",
   "execution_count": 44,
   "metadata": {},
   "outputs": [
    {
     "data": {
      "text/plain": [
       "46"
      ]
     },
     "execution_count": 44,
     "metadata": {},
     "output_type": "execute_result"
    }
   ],
   "source": [
    "( a < .45 ).sum()"
   ]
  },
  {
   "cell_type": "code",
   "execution_count": 15,
   "metadata": {},
   "outputs": [
    {
     "data": {
      "text/plain": [
       "(array([ 1.,  1.,  1., ..., 15.,  1.,  1.], dtype=float32),\n",
       " array([    3,    10,    22, ..., 23281, 23304, 23336], dtype=int32),\n",
       " array([        0,      2853,      7047, ..., 106601619, 106602592,\n",
       "        106604392], dtype=int32))"
      ]
     },
     "execution_count": 15,
     "metadata": {},
     "output_type": "execute_result"
    }
   ],
   "source": [
    "( cnts.X.data,\n",
    "  cnts.X.indices,\n",
    "  cnts.X.indptr )"
   ]
  },
  {
   "cell_type": "code",
   "execution_count": 117,
   "metadata": {},
   "outputs": [],
   "source": [
    "a = exprs.X[ 0:20, ]"
   ]
  },
  {
   "cell_type": "code",
   "execution_count": 119,
   "metadata": {},
   "outputs": [
    {
     "data": {
      "text/plain": [
       "matrix([[-2.46661283e-08, -2.86321522e-09, -2.84519396e-08,\n",
       "         -2.79180212e-08,  2.84867230e-08,  2.95551912e-08,\n",
       "         -1.36655576e-08,  1.81990976e-08,  1.19329537e-08,\n",
       "         -4.47524884e-09, -8.65007133e-09,  8.32356162e-09,\n",
       "         -1.89631200e-09, -1.41924038e-08,  9.04271824e-09,\n",
       "          2.03542582e-08, -1.59164090e-08,  7.53620699e-09,\n",
       "         -3.03442427e-09, -1.29230319e-08],\n",
       "        [-2.86321522e-09, -1.30739606e-08,  1.98530957e-08,\n",
       "         -3.94489807e-09,  2.20583528e-08,  1.04078008e-08,\n",
       "          1.41292472e-08, -1.95584681e-08, -1.06612330e-08,\n",
       "          3.06812320e-09,  2.77784540e-08, -2.78153398e-08,\n",
       "          6.25099150e-09, -1.09072440e-08, -2.40741742e-08,\n",
       "         -2.81843812e-08, -1.15863762e-08, -1.67214897e-09,\n",
       "          8.61683391e-09,  2.78568588e-08],\n",
       "        [-2.84519396e-08,  1.98530957e-08, -5.59799032e-08,\n",
       "         -6.01102679e-09,  2.41861111e-08,  2.65089946e-08,\n",
       "          2.58485719e-08,  2.47926769e-08,  9.91871874e-09,\n",
       "          2.18955254e-09, -1.13033150e-09, -2.78789967e-08,\n",
       "          1.47154389e-08,  1.38107040e-08, -5.59515911e-09,\n",
       "         -3.62850205e-09, -7.11933990e-09, -2.30667839e-08,\n",
       "         -2.18099310e-08,  2.83731231e-08],\n",
       "        [-2.79180212e-08, -3.94489807e-09, -6.01102679e-09,\n",
       "         -1.86754047e-08, -1.66283529e-08, -2.50881380e-08,\n",
       "          1.23886338e-08, -1.15240054e-08,  1.87402112e-08,\n",
       "          2.34228855e-08,  3.97871114e-09,  2.36188977e-08,\n",
       "         -2.13511000e-08,  3.11455040e-09, -1.90452543e-10,\n",
       "          2.76901581e-08,  2.86215751e-08, -1.60200342e-09,\n",
       "          1.95311753e-08,  2.14805536e-08],\n",
       "        [ 2.84867230e-08,  2.20583528e-08,  2.41861111e-08,\n",
       "         -1.66283529e-08, -5.15888450e-08,  2.39067105e-08,\n",
       "         -2.00910220e-08,  1.60862433e-08,  2.16645071e-08,\n",
       "         -1.12643510e-08,  2.00895938e-08, -2.82860951e-08,\n",
       "         -1.38299685e-08,  1.29663389e-08, -1.87274419e-08,\n",
       "          2.80734758e-09, -2.64695433e-08, -2.39480764e-08,\n",
       "         -2.26188233e-08,  6.82126045e-09],\n",
       "        [ 2.95551912e-08,  1.04078008e-08,  2.65089946e-08,\n",
       "         -2.50881380e-08,  2.39067105e-08,  2.82123873e-08,\n",
       "          5.94147287e-10, -2.54589743e-08,  2.60750115e-08,\n",
       "         -1.89948532e-08,  1.74901746e-08, -1.28325039e-09,\n",
       "         -2.78347887e-08,  1.44293424e-08, -6.81411061e-09,\n",
       "          1.33409520e-08, -4.95498953e-09, -4.15114809e-09,\n",
       "          1.73788084e-08,  7.44452766e-09],\n",
       "        [-1.36655576e-08,  1.41292472e-08,  2.58485719e-08,\n",
       "          1.23886338e-08, -2.00910220e-08,  5.94147287e-10,\n",
       "          2.52878949e-08,  2.15374751e-09, -2.25134423e-08,\n",
       "          1.71849071e-08,  2.65631679e-08, -2.32601496e-08,\n",
       "         -2.64189917e-08,  2.07732712e-08,  9.28948174e-09,\n",
       "         -1.82471771e-09, -8.16247192e-09,  2.26431472e-08,\n",
       "          1.73042861e-08, -1.40547634e-08],\n",
       "        [ 1.81990976e-08, -1.95584681e-08,  2.47926769e-08,\n",
       "         -1.15240054e-08,  1.60862433e-08, -2.54589743e-08,\n",
       "          2.15374751e-09,  1.91033852e-08,  2.94951685e-09,\n",
       "         -2.66485549e-08,  1.39023346e-08, -2.29104992e-08,\n",
       "         -2.95764243e-08,  1.45526716e-08, -2.29551501e-08,\n",
       "         -2.01045883e-08,  2.50455452e-08,  2.24536295e-08,\n",
       "          2.70447575e-08, -2.82368061e-08],\n",
       "        [ 1.19329537e-08, -1.06612330e-08,  9.91871874e-09,\n",
       "          1.87402112e-08,  2.16645071e-08,  2.60750115e-08,\n",
       "         -2.25134423e-08,  2.94951685e-09, -4.66622962e-09,\n",
       "         -1.71064956e-08, -2.38778317e-08, -6.50458964e-09,\n",
       "          2.01318628e-08, -1.55091082e-08,  1.83048576e-09,\n",
       "          9.13228515e-09, -1.89679479e-08,  2.68273490e-08,\n",
       "         -1.86752142e-08, -1.07377607e-09],\n",
       "        [-4.47524884e-09,  3.06812320e-09,  2.18955254e-09,\n",
       "          2.34228855e-08, -1.12643510e-08, -1.89948532e-08,\n",
       "          1.71849071e-08, -2.66485549e-08, -1.71064956e-08,\n",
       "          1.98120206e-08, -2.23152931e-08,  1.07380580e-08,\n",
       "         -8.11262491e-09,  2.22491034e-08,  2.44635801e-08,\n",
       "         -1.08229806e-08,  2.12433008e-08, -1.72729013e-08,\n",
       "         -1.74437377e-08,  5.88967652e-10],\n",
       "        [-8.65007133e-09,  2.77784540e-08, -1.13033150e-09,\n",
       "          3.97871114e-09,  2.00895938e-08,  1.74901746e-08,\n",
       "          2.65631679e-08,  1.39023346e-08, -2.38778317e-08,\n",
       "         -2.23152931e-08, -5.73966712e-08, -4.97745722e-09,\n",
       "          5.46549173e-09, -1.51472491e-08, -9.14304077e-10,\n",
       "          1.66176787e-08, -1.31572845e-08, -9.20902204e-09,\n",
       "         -6.98573532e-10, -2.03313555e-09],\n",
       "        [ 8.32356162e-09, -2.78153398e-08, -2.78789967e-08,\n",
       "          2.36188977e-08, -2.82860951e-08, -1.28325039e-09,\n",
       "         -2.32601496e-08, -2.29104992e-08, -6.50458964e-09,\n",
       "          1.07380580e-08, -4.97745722e-09, -4.71398027e-08,\n",
       "          1.40063094e-09,  2.88419519e-08,  2.90981685e-08,\n",
       "         -2.18395754e-08,  1.43147683e-09, -1.71400373e-08,\n",
       "          2.95838920e-08,  4.11636958e-09],\n",
       "        [-1.89631200e-09,  6.25099150e-09,  1.47154389e-08,\n",
       "         -2.13511000e-08, -1.38299685e-08, -2.78347887e-08,\n",
       "         -2.64189917e-08, -2.95764243e-08,  2.01318628e-08,\n",
       "         -8.11262491e-09,  5.46549173e-09,  1.40063094e-09,\n",
       "         -4.10505474e-09, -4.24098068e-09,  1.98202734e-08,\n",
       "         -1.44715163e-08, -4.88757146e-09,  2.49285714e-08,\n",
       "          1.11276799e-08,  1.32131033e-08],\n",
       "        [-1.41924038e-08, -1.09072440e-08,  1.38107040e-08,\n",
       "          3.11455040e-09,  1.29663389e-08,  1.44293424e-08,\n",
       "          2.07732712e-08,  1.45526716e-08, -1.55091082e-08,\n",
       "          2.22491034e-08, -1.51472491e-08,  2.88419519e-08,\n",
       "         -4.24098068e-09, -1.47493562e-08, -2.15473023e-08,\n",
       "          1.09293129e-08, -5.68209702e-09,  1.03000386e-08,\n",
       "         -3.82941334e-09, -1.08138221e-09],\n",
       "        [ 9.04271824e-09, -2.40741742e-08, -5.59515911e-09,\n",
       "         -1.90452543e-10, -1.87274419e-08, -6.81411061e-09,\n",
       "          9.28948174e-09, -2.29551501e-08,  1.83048576e-09,\n",
       "          2.44635801e-08, -9.14304077e-10,  2.90981685e-08,\n",
       "          1.98202734e-08, -2.15473023e-08, -5.32718758e-09,\n",
       "          5.05011699e-09, -2.34699336e-08,  9.77651771e-09,\n",
       "         -2.04215558e-08, -3.72353481e-10],\n",
       "        [ 2.03542582e-08, -2.81843812e-08, -3.62850205e-09,\n",
       "          2.76901581e-08,  2.80734758e-09,  1.33409520e-08,\n",
       "         -1.82471771e-09, -2.01045883e-08,  9.13228515e-09,\n",
       "         -1.08229806e-08,  1.66176787e-08, -2.18395754e-08,\n",
       "         -1.44715163e-08,  1.09293129e-08,  5.05011699e-09,\n",
       "         -2.49809275e-08,  8.90250562e-09,  2.29932827e-08,\n",
       "         -8.70947203e-09, -5.83390702e-09],\n",
       "        [-1.59164090e-08, -1.15863762e-08, -7.11933990e-09,\n",
       "          2.86215751e-08, -2.64695433e-08, -4.95498953e-09,\n",
       "         -8.16247192e-09,  2.50455452e-08, -1.89679479e-08,\n",
       "          2.12433008e-08, -1.31572845e-08,  1.43147683e-09,\n",
       "         -4.88757146e-09, -5.68209702e-09, -2.34699336e-08,\n",
       "          8.90250562e-09,  6.60920563e-09,  1.73764441e-08,\n",
       "          1.88859406e-08,  2.47651819e-08],\n",
       "        [ 7.53620699e-09, -1.67214897e-09, -2.30667839e-08,\n",
       "         -1.60200342e-09, -2.39480764e-08, -4.15114809e-09,\n",
       "          2.26431472e-08,  2.24536295e-08,  2.68273490e-08,\n",
       "         -1.72729013e-08, -9.20902204e-09, -1.71400373e-08,\n",
       "          2.49285714e-08,  1.03000386e-08,  9.77651771e-09,\n",
       "          2.29932827e-08,  1.73764441e-08, -8.07939149e-09,\n",
       "         -2.30384140e-08, -2.11008482e-08],\n",
       "        [-3.03442427e-09,  8.61683391e-09, -2.18099310e-08,\n",
       "          1.95311753e-08, -2.26188233e-08,  1.73788084e-08,\n",
       "          1.73042861e-08,  2.70447575e-08, -1.86752142e-08,\n",
       "         -1.74437377e-08, -6.98573532e-10,  2.95838920e-08,\n",
       "          1.11276799e-08, -3.82941334e-09, -2.04215558e-08,\n",
       "         -8.70947203e-09,  1.88859406e-08, -2.30384140e-08,\n",
       "         -1.48127878e-08, -6.17509477e-09],\n",
       "        [-1.29230319e-08,  2.78568588e-08,  2.83731231e-08,\n",
       "          2.14805536e-08,  6.82126045e-09,  7.44452766e-09,\n",
       "         -1.40547634e-08, -2.82368061e-08, -1.07377607e-09,\n",
       "          5.88967652e-10, -2.03313555e-09,  4.11636958e-09,\n",
       "          1.32131033e-08, -1.08138221e-09, -3.72353481e-10,\n",
       "         -5.83390702e-09,  2.47651819e-08, -2.11008482e-08,\n",
       "         -6.17509477e-09, -5.23339920e-08]])"
      ]
     },
     "execution_count": 119,
     "metadata": {},
     "output_type": "execute_result"
    }
   ],
   "source": [
    "# Scalar product:\n",
    "\n",
    "d = np.zeros( (20,20), np.float32)\n",
    "for cellA in range(20):\n",
    "    for cellB in range(20):\n",
    "        indptrA = a.indptr[cellA]\n",
    "        indptrB = a.indptr[cellB]\n",
    "        s = 0\n",
    "        while indptrA < a.indptr[cellA+1] and indptrB < a.indptr[cellB+1]:\n",
    "            if a.indices[indptrA] < a.indices[indptrB]:\n",
    "                indptrA += 1\n",
    "            elif a.indices[indptrA] > a.indices[indptrB]:\n",
    "                indptrB += 1\n",
    "            else:  # a.indices[indptrA] == a.indices[indptrB]\n",
    "                s += a.data[indptrA] * a.data[indptrB]\n",
    "                indptrA += 1\n",
    "                indptrB += 1\n",
    "        d[ cellA, cellB ] = s\n",
    "        \n",
    "np.subtract( d, ( a * a.transpose() ).todense() )\n"
   ]
  },
  {
   "cell_type": "code",
   "execution_count": 156,
   "metadata": {},
   "outputs": [
    {
     "name": "stdout",
     "output_type": "stream",
     "text": [
      "[[1.         0.80533105 0.         0.        ]\n",
      " [0.80533105 1.         0.         0.        ]\n",
      " [0.         0.         1.         0.        ]\n",
      " [0.         0.         0.         1.        ]]\n",
      "[[0.99999989 0.80530248 0.69370592 0.7994915 ]\n",
      " [0.80530248 1.00000006 0.69331492 0.79616973]\n",
      " [0.69370592 0.69331492 0.9999999  0.67353   ]\n",
      " [0.7994915  0.79616973 0.67353    1.00000005]]\n"
     ]
    }
   ],
   "source": [
    "# Scalar product, calculated via Euclidean distance\n",
    "# Set to zero all scalar products smaller than 0.4\n",
    "\n",
    "def square(x):\n",
    "    return x * x\n",
    "\n",
    "d = np.zeros( (20,20), np.float32)\n",
    "for cellA in range(20):\n",
    "    for cellB in range(20):\n",
    "        indptrA = a.indptr[cellA]\n",
    "        indptrB = a.indptr[cellB]\n",
    "        s = 0\n",
    "        while indptrA < a.indptr[cellA+1] and indptrB < a.indptr[cellB+1]:\n",
    "            if a.indices[indptrA] < a.indices[indptrB]:\n",
    "                s += square( a.data[indptrA] )\n",
    "                indptrA += 1\n",
    "            elif a.indices[indptrA] > a.indices[indptrB]:\n",
    "                s += square( a.data[indptrB] )\n",
    "                indptrB += 1\n",
    "            else:  # a.indices[indptrA] == a.indices[indptrB]\n",
    "                s += square( a.data[indptrA] - a.data[indptrB] )\n",
    "                indptrA += 1\n",
    "                indptrB += 1\n",
    "            if s > 0.4:\n",
    "                break\n",
    "        else:\n",
    "            d[ cellA, cellB ] = 1 - s/2 \n",
    "        \n",
    "print( d[1:5,1:5] )\n",
    "\n",
    "ss = ( a * a.transpose() ).todense()\n",
    "print( ss[1:5,1:5] )"
   ]
  },
  {
   "cell_type": "code",
   "execution_count": 143,
   "metadata": {},
   "outputs": [
    {
     "data": {
      "text/plain": [
       "matrix([[0.63461083]])"
      ]
     },
     "execution_count": 143,
     "metadata": {},
     "output_type": "execute_result"
    }
   ],
   "source": [
    "# Next step: Change the else clause of the while loop such that it adds an entry to a sparse matrix \n",
    "# and that we build up a sparse "
   ]
  },
  {
   "cell_type": "code",
   "execution_count": 144,
   "metadata": {},
   "outputs": [
    {
     "data": {
      "text/plain": [
       "0.634562640395829"
      ]
     },
     "execution_count": 144,
     "metadata": {},
     "output_type": "execute_result"
    }
   ],
   "source": [
    "np.arccos( 1 - d[1,2]/2 )"
   ]
  }
 ],
 "metadata": {
  "kernelspec": {
   "display_name": "Python 3.6",
   "language": "python",
   "name": "python3.6"
  },
  "language_info": {
   "codemirror_mode": {
    "name": "ipython",
    "version": 3
   },
   "file_extension": ".py",
   "mimetype": "text/x-python",
   "name": "python",
   "nbconvert_exporter": "python",
   "pygments_lexer": "ipython3",
   "version": "3.6.5"
  }
 },
 "nbformat": 4,
 "nbformat_minor": 2
}
