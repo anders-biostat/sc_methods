{
 "cells": [
  {
   "cell_type": "code",
   "execution_count": 2,
   "metadata": {},
   "outputs": [
    {
     "name": "stderr",
     "output_type": "stream",
     "text": [
      "/home/anders/.local/lib/python3.6/site-packages/h5py/__init__.py:36: FutureWarning: Conversion of the second argument of issubdtype from `float` to `np.floating` is deprecated. In future, it will be treated as `np.float64 == np.dtype(float).type`.\n",
      "  from ._conv import register_converters as _register_converters\n"
     ]
    }
   ],
   "source": [
    "import numpy as np\n",
    "import scipy as sp\n",
    "import pandas as pd\n",
    "import scanpy.api as sc\n",
    "import matplotlib.pyplot as plt\n",
    "import seaborn\n",
    "import itertools as it"
   ]
  },
  {
   "cell_type": "code",
   "execution_count": 3,
   "metadata": {},
   "outputs": [
    {
     "data": {
      "text/plain": [
       "AnnData object with n_obs × n_vars = 54837 × 23433 \n",
       "    obs: 'tissue', 'channel', 'cell_ontology_class', 'cell_ontology_id', 'cell', 'mouse.id', 'subtissue', 'mouse.sex'"
      ]
     },
     "execution_count": 3,
     "metadata": {},
     "output_type": "execute_result"
    }
   ],
   "source": [
    "cnts = sc.read_h5ad( \"Tabula_muris_10x.h5ad\" )\n",
    "cnts"
   ]
  },
  {
   "cell_type": "code",
   "execution_count": 4,
   "metadata": {},
   "outputs": [],
   "source": [
    "cntsT = cnts.transpose()"
   ]
  },
  {
   "cell_type": "code",
   "execution_count": 5,
   "metadata": {},
   "outputs": [
    {
     "data": {
      "text/plain": [
       "Index(['10X_P4_3_CCGTTCAGTTCCCTTG', '10X_P4_4_ACTGAGTGTTGCGTTA',\n",
       "       '10X_P4_4_ATCTACTAGGCAATTA', '10X_P4_4_CATGACAAGGACTGGT',\n",
       "       '10X_P4_4_CCTAAAGAGCTCCTTC', '10X_P4_4_CGATCGGAGTGGAGTC',\n",
       "       '10X_P4_4_GAATGAAAGCTTATCG', '10X_P4_4_GCACTCTCAGCGATCC',\n",
       "       '10X_P4_4_GCTTCCAAGTCCTCCT', '10X_P4_4_GTCCTCATCATGTGGT',\n",
       "       ...\n",
       "       '10X_P8_15_GCTGCAGCAGGGAGAG', '10X_P8_15_GGGAGATCACTTCTGC',\n",
       "       '10X_P8_15_GGTGTTAAGATCCCGC', '10X_P8_15_GTAACGTGTAATAGCA',\n",
       "       '10X_P8_15_TAGAGCTAGTTTAGGA', '10X_P8_15_TCAACGACATTCCTGC',\n",
       "       '10X_P8_15_TCGTAGAAGCTTATCG', '10X_P8_15_TTGCCGTGTCAACTGT',\n",
       "       '10X_P8_15_TTGTAGGCATCAGTCA', '10X_P8_15_TTTGTCAGTTGTCGCG'],\n",
       "      dtype='object', name='index', length=915)"
      ]
     },
     "execution_count": 5,
     "metadata": {},
     "output_type": "execute_result"
    }
   ],
   "source": [
    "endo_gold = cnts.obs_names[ ( cntsT[\"Pecam1\",:].X > 3 ) & ( cntsT[\"Cdh5\",:].X > 3 ) ]\n",
    "endo_gold"
   ]
  },
  {
   "cell_type": "code",
   "execution_count": 6,
   "metadata": {},
   "outputs": [],
   "source": [
    "exprs = cnts.copy()\n",
    "exprs.X = sp.sparse.vstack( np.sqrt( cnts.X[i,:] ) / np.sqrt( cnts.X[i,:].sum() ) for i in range(cnts.n_obs) )"
   ]
  },
  {
   "cell_type": "code",
   "execution_count": 104,
   "metadata": {},
   "outputs": [],
   "source": [
    "a = exprs[ endo_gold, : ].X\n",
    "endo_gold_dists = a.dot( a.transpose() ).todense() \n",
    "assert endo_gold_dists.max() < 1.001\n",
    "endo_gold_dists[ endo_gold_dists > 1 ] = 1\n",
    "endo_gold_dists = np.arccos( endo_gold_dists ) / ( np.pi / 2)"
   ]
  },
  {
   "cell_type": "code",
   "execution_count": 105,
   "metadata": {},
   "outputs": [
    {
     "data": {
      "image/png": "[encoded data removed]",
      "text/plain": [
       "<Figure size 432x288 with 1 Axes>"
      ]
     },
     "metadata": {},
     "output_type": "display_data"
    }
   ],
   "source": [
    "plt.hist( endo_gold_dists.flat, 300, range=(0,1) );"
   ]
  },
  {
   "cell_type": "code",
   "execution_count": 106,
   "metadata": {},
   "outputs": [],
   "source": [
    "a = exprs[ np.random.choice( exprs.obs_names, endo_gold.shape[0] ), : ].X\n",
    "dists_sample = a.dot( a.transpose() ).todense() \n",
    "assert dists_sample.max() < 1.001\n",
    "dists_sample[ dists_sample > 1 ] = 1\n",
    "dists_sample = np.arccos( dists_sample ) / ( np.pi/2 )"
   ]
  },
  {
   "cell_type": "code",
   "execution_count": 107,
   "metadata": {},
   "outputs": [
    {
     "data": {
      "image/png": "[encoded data removed]",
      "text/plain": [
       "<Figure size 432x288 with 1 Axes>"
      ]
     },
     "metadata": {},
     "output_type": "display_data"
    }
   ],
   "source": [
    "plt.hist( dists_sample.flat, 300, range=(0,1) );"
   ]
  },
  {
   "cell_type": "code",
   "execution_count": 126,
   "metadata": {},
   "outputs": [
    {
     "data": {
      "image/png": "[encoded data removed]",
      "text/plain": [
       "<Figure size 432x288 with 1 Axes>"
      ]
     },
     "metadata": {},
     "output_type": "display_data"
    }
   ],
   "source": [
    "plt.hist( [ np.asarray(dists_sample).flatten(), np.asarray(endo_gold_dists).flatten() ], \n",
    "         bins=300, range=(0,1), histtype=\"step\" );"
   ]
  },
  {
   "cell_type": "code",
   "execution_count": 127,
   "metadata": {},
   "outputs": [],
   "source": [
    "a = ( exprs.X * exprs.X[17864,:].transpose() ).todense()"
   ]
  },
  {
   "cell_type": "code",
   "execution_count": 123,
   "metadata": {},
   "outputs": [
    {
     "data": {
      "text/plain": [
       "4905"
      ]
     },
     "execution_count": 123,
     "metadata": {},
     "output_type": "execute_result"
    }
   ],
   "source": [
    "( a < .45 ).sum()"
   ]
  }
 ],
 "metadata": {
  "kernelspec": {
   "display_name": "Python 3.6",
   "language": "python",
   "name": "python3.6"
  },
  "language_info": {
   "codemirror_mode": {
    "name": "ipython",
    "version": 3
   },
   "file_extension": ".py",
   "mimetype": "text/x-python",
   "name": "python",
   "nbconvert_exporter": "python",
   "pygments_lexer": "ipython3",
   "version": "3.6.5"
  }
 },
 "nbformat": 4,
 "nbformat_minor": 2
}
