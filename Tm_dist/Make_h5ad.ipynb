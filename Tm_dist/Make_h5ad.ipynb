{
 "cells": [
  {
   "cell_type": "code",
   "execution_count": 1,
   "metadata": {},
   "outputs": [
    {
     "name": "stderr",
     "output_type": "stream",
     "text": [
      "/home/anders/.local/lib/python3.6/site-packages/h5py/__init__.py:36: FutureWarning: Conversion of the second argument of issubdtype from `float` to `np.floating` is deprecated. In future, it will be treated as `np.float64 == np.dtype(float).type`.\n",
      "  from ._conv import register_converters as _register_converters\n"
     ]
    }
   ],
   "source": [
    "import os\n",
    "import numpy as np\n",
    "import pandas as pd\n",
    "import scanpy.api as sc"
   ]
  },
  {
   "cell_type": "code",
   "execution_count": 2,
   "metadata": {},
   "outputs": [
    {
     "data": {
      "text/html": [
       "<div>\n",
       "<style scoped>\n",
       "    .dataframe tbody tr th:only-of-type {\n",
       "        vertical-align: middle;\n",
       "    }\n",
       "\n",
       "    .dataframe tbody tr th {\n",
       "        vertical-align: top;\n",
       "    }\n",
       "\n",
       "    .dataframe thead th {\n",
       "        text-align: right;\n",
       "    }\n",
       "</style>\n",
       "<table border=\"1\" class=\"dataframe\">\n",
       "  <thead>\n",
       "    <tr style=\"text-align: right;\">\n",
       "      <th></th>\n",
       "      <th>cell</th>\n",
       "      <th>tissue</th>\n",
       "      <th>cell_ontology_class</th>\n",
       "      <th>cell_ontology_term_iri</th>\n",
       "      <th>cell_ontology_id</th>\n",
       "    </tr>\n",
       "  </thead>\n",
       "  <tbody>\n",
       "    <tr>\n",
       "      <th>0</th>\n",
       "      <td>b'10X_P4_3_AAAGTAGAGATGCCAG'</td>\n",
       "      <td>Bladder</td>\n",
       "      <td>mesenchymal cell</td>\n",
       "      <td>http://purl.obolibrary.org/obo/CL_0008019</td>\n",
       "      <td>CL:0008019</td>\n",
       "    </tr>\n",
       "    <tr>\n",
       "      <th>1</th>\n",
       "      <td>b'10X_P4_3_AACCGCGTCCAACCAA'</td>\n",
       "      <td>Bladder</td>\n",
       "      <td>mesenchymal cell</td>\n",
       "      <td>http://purl.obolibrary.org/obo/CL_0008019</td>\n",
       "      <td>CL:0008019</td>\n",
       "    </tr>\n",
       "    <tr>\n",
       "      <th>2</th>\n",
       "      <td>b'10X_P4_3_AACTCCCGTCGGGTCT'</td>\n",
       "      <td>Bladder</td>\n",
       "      <td>mesenchymal cell</td>\n",
       "      <td>http://purl.obolibrary.org/obo/CL_0008019</td>\n",
       "      <td>CL:0008019</td>\n",
       "    </tr>\n",
       "    <tr>\n",
       "      <th>3</th>\n",
       "      <td>b'10X_P4_3_AACTCTTAGTTGCAGG'</td>\n",
       "      <td>Bladder</td>\n",
       "      <td>bladder cell</td>\n",
       "      <td>http://purl.obolibrary.org/obo/CL_1001319</td>\n",
       "      <td>CL:1001319</td>\n",
       "    </tr>\n",
       "    <tr>\n",
       "      <th>4</th>\n",
       "      <td>b'10X_P4_3_AACTCTTTCATAACCG'</td>\n",
       "      <td>Bladder</td>\n",
       "      <td>mesenchymal cell</td>\n",
       "      <td>http://purl.obolibrary.org/obo/CL_0008019</td>\n",
       "      <td>CL:0008019</td>\n",
       "    </tr>\n",
       "  </tbody>\n",
       "</table>\n",
       "</div>"
      ],
      "text/plain": [
       "                           cell   tissue cell_ontology_class  \\\n",
       "0  b'10X_P4_3_AAAGTAGAGATGCCAG'  Bladder    mesenchymal cell   \n",
       "1  b'10X_P4_3_AACCGCGTCCAACCAA'  Bladder    mesenchymal cell   \n",
       "2  b'10X_P4_3_AACTCCCGTCGGGTCT'  Bladder    mesenchymal cell   \n",
       "3  b'10X_P4_3_AACTCTTAGTTGCAGG'  Bladder        bladder cell   \n",
       "4  b'10X_P4_3_AACTCTTTCATAACCG'  Bladder    mesenchymal cell   \n",
       "\n",
       "                      cell_ontology_term_iri cell_ontology_id  \n",
       "0  http://purl.obolibrary.org/obo/CL_0008019       CL:0008019  \n",
       "1  http://purl.obolibrary.org/obo/CL_0008019       CL:0008019  \n",
       "2  http://purl.obolibrary.org/obo/CL_0008019       CL:0008019  \n",
       "3  http://purl.obolibrary.org/obo/CL_1001319       CL:1001319  \n",
       "4  http://purl.obolibrary.org/obo/CL_0008019       CL:0008019  "
      ]
     },
     "execution_count": 2,
     "metadata": {},
     "output_type": "execute_result"
    }
   ],
   "source": [
    "anno = pd.read_csv( \"annotations_droplets.csv\" )\n",
    "anno[\"cell\"] = anno[\"cell\"].apply( lambda x: bytes(x, \"UTF8\") )\n",
    "anno.head()"
   ]
  },
  {
   "cell_type": "code",
   "execution_count": 3,
   "metadata": {},
   "outputs": [],
   "source": [
    "# This function reads one subdirectory of the \"droplet\" data directory of the\n",
    "# Tabula muris data, i.e., one \"channel\".\n",
    "\n",
    "def read_Tm_10x( dirname, path = \"droplet\" ):\n",
    "    \n",
    "    # Read the sparse matrix:\n",
    "    a = sc.read( os.path.join( path, dirname, \"matrix.mtx\" ) ).transpose()\n",
    "    \n",
    "    # Add the barcodes and gene symbols:\n",
    "    a.obs_names = pd.read_table( os.path.join( path, dirname, \"barcodes.tsv\" ), header=None )[0]\n",
    "    a.var_names = pd.read_table( os.path.join( path, dirname, \"genes.tsv\" ), header=None )[0]\n",
    "    \n",
    "    # The diname has the format \"tisse-channel\"\n",
    "    assert len( dirname.split(\"-\") ) == 2 \n",
    "    \n",
    "    # Remove \"-1\" label from cell barcodes, prefix channel:\n",
    "    a.obs_names = np.fromiter( [ dirname.split(\"-\")[1] + \"_\" + s.replace( \"-1\", \"\" ) \n",
    "       for s in a.obs_names ], 'S32' )\n",
    "    \n",
    "    # Look these up in the annotation table and keep only those found\n",
    "    # This is necessary because 4 of the dropseq directrories contain superfluous barcodes\n",
    "    annotated_cells = set( anno[\"cell\"].values )\n",
    "    a = a[ np.fromiter( ( s in annotated_cells for s in a.obs_names ), dtype=bool ), ]    \n",
    "    \n",
    "    # Store the data from the dirname\n",
    "    a.obs[\"tissue\"] = dirname.split(\"-\")[0]\n",
    "    a.obs[\"channel\"] = dirname.split(\"-\")[1]\n",
    "    \n",
    "    # Merge in the annotation data\n",
    "    a.obs = a.obs.merge( anno, how=\"left\", left_index=True, right_on=\"cell\", \n",
    "        suffixes=(\"\",\".y\") ).set_index( \"cell\" )\n",
    "    \n",
    "    # Remove unnecessary columns\n",
    "    assert all( a.obs[\"tissue\"] == a.obs[\"tissue.y\"] )\n",
    "    a.obs = a.obs.drop( columns = [ \"cell_ontology_term_iri\", \"tissue.y\" ] )\n",
    "\n",
    "    return a"
   ]
  },
  {
   "cell_type": "code",
   "execution_count": 4,
   "metadata": {},
   "outputs": [
    {
     "data": {
      "text/plain": [
       "['Bladder-10X_P4_3',\n",
       " 'Bladder-10X_P4_4',\n",
       " 'Bladder-10X_P7_7',\n",
       " 'Heart-10X_P7_4',\n",
       " 'Kidney-10X_P4_5',\n",
       " 'Kidney-10X_P4_6',\n",
       " 'Kidney-10X_P7_5',\n",
       " 'Liver-10X_P4_2',\n",
       " 'Liver-10X_P7_0',\n",
       " 'Liver-10X_P7_1',\n",
       " 'Lung-10X_P7_8',\n",
       " 'Lung-10X_P7_9',\n",
       " 'Lung-10X_P8_12',\n",
       " 'Lung-10X_P8_13',\n",
       " 'Mammary-10X_P7_12',\n",
       " 'Mammary-10X_P7_13',\n",
       " 'Marrow-10X_P7_2',\n",
       " 'Marrow-10X_P7_3',\n",
       " 'Muscle-10X_P7_14',\n",
       " 'Muscle-10X_P7_15',\n",
       " 'Spleen-10X_P4_7',\n",
       " 'Spleen-10X_P7_6',\n",
       " 'Thymus-10X_P7_11',\n",
       " 'Tongue-10X_P4_0',\n",
       " 'Tongue-10X_P4_1',\n",
       " 'Tongue-10X_P7_10',\n",
       " 'Trachea-10X_P8_14',\n",
       " 'Trachea-10X_P8_15']"
      ]
     },
     "execution_count": 4,
     "metadata": {},
     "output_type": "execute_result"
    }
   ],
   "source": [
    "path10x = \"droplet\"\n",
    "dirs10x = sorted( os.listdir( path10x ) )\n",
    "dirs10x"
   ]
  },
  {
   "cell_type": "code",
   "execution_count": 6,
   "metadata": {},
   "outputs": [
    {
     "name": "stdout",
     "output_type": "stream",
     "text": [
      "Read Bladder-10X_P4_3.\n",
      "Read Bladder-10X_P4_4.\n",
      "Read Bladder-10X_P7_7.\n",
      "Read Heart-10X_P7_4.\n",
      "Read Kidney-10X_P4_5.\n",
      "Read Kidney-10X_P4_6.\n",
      "Read Kidney-10X_P7_5.\n",
      "Read Liver-10X_P4_2.\n",
      "Read Liver-10X_P7_0.\n",
      "Read Liver-10X_P7_1.\n",
      "Read Lung-10X_P7_8.\n",
      "Read Lung-10X_P7_9.\n",
      "Read Lung-10X_P8_12.\n",
      "Read Lung-10X_P8_13.\n",
      "Read Mammary-10X_P7_12.\n",
      "Read Mammary-10X_P7_13.\n",
      "Read Marrow-10X_P7_2.\n",
      "Read Marrow-10X_P7_3.\n",
      "Read Muscle-10X_P7_14.\n",
      "Read Muscle-10X_P7_15.\n",
      "Read Spleen-10X_P4_7.\n",
      "Read Spleen-10X_P7_6.\n",
      "Read Thymus-10X_P7_11.\n",
      "Read Tongue-10X_P4_0.\n",
      "Read Tongue-10X_P4_1.\n",
      "Read Tongue-10X_P7_10.\n",
      "Read Trachea-10X_P8_14.\n",
      "Read Trachea-10X_P8_15.\n"
     ]
    },
    {
     "data": {
      "text/plain": [
       "AnnData object with n_obs × n_vars = 54837 × 23433 \n",
       "    obs: 'tissue', 'channel', 'cell_ontology_class', 'cell_ontology_id', 'batch'"
      ]
     },
     "execution_count": 6,
     "metadata": {},
     "output_type": "execute_result"
    }
   ],
   "source": [
    "ac = read_Tm_10x( dirs10x[0], path10x )\n",
    "print( f\"Read {dirs10x[0]}.\")\n",
    "for d in dirs10x[1:]:\n",
    "    a2 = read_Tm_10x( d, path10x )\n",
    "    assert( all( ac.var_names == a2.var_names ) )\n",
    "    ac = ac.concatenate( a2, index_unique=None )\n",
    "    print( f\"Read {d}.\")\n",
    "del a2\n",
    "\n",
    "ac"
   ]
  },
  {
   "cell_type": "code",
   "execution_count": 10,
   "metadata": {},
   "outputs": [
    {
     "data": {
      "text/html": [
       "<div>\n",
       "<style scoped>\n",
       "    .dataframe tbody tr th:only-of-type {\n",
       "        vertical-align: middle;\n",
       "    }\n",
       "\n",
       "    .dataframe tbody tr th {\n",
       "        vertical-align: top;\n",
       "    }\n",
       "\n",
       "    .dataframe thead th {\n",
       "        text-align: right;\n",
       "    }\n",
       "</style>\n",
       "<table border=\"1\" class=\"dataframe\">\n",
       "  <thead>\n",
       "    <tr style=\"text-align: right;\">\n",
       "      <th></th>\n",
       "      <th>channel</th>\n",
       "      <th>mouse.id</th>\n",
       "      <th>tissue</th>\n",
       "      <th>subtissue</th>\n",
       "      <th>mouse.sex</th>\n",
       "    </tr>\n",
       "  </thead>\n",
       "  <tbody>\n",
       "    <tr>\n",
       "      <th>0</th>\n",
       "      <td>10X_P4_0</td>\n",
       "      <td>3-M-8</td>\n",
       "      <td>Tongue</td>\n",
       "      <td>NaN</td>\n",
       "      <td>M</td>\n",
       "    </tr>\n",
       "    <tr>\n",
       "      <th>1</th>\n",
       "      <td>10X_P4_1</td>\n",
       "      <td>3-M-9</td>\n",
       "      <td>Tongue</td>\n",
       "      <td>NaN</td>\n",
       "      <td>M</td>\n",
       "    </tr>\n",
       "    <tr>\n",
       "      <th>2</th>\n",
       "      <td>10X_P4_2</td>\n",
       "      <td>3-M-8/9</td>\n",
       "      <td>Liver</td>\n",
       "      <td>hepatocytes</td>\n",
       "      <td>M</td>\n",
       "    </tr>\n",
       "    <tr>\n",
       "      <th>3</th>\n",
       "      <td>10X_P4_3</td>\n",
       "      <td>3-M-8</td>\n",
       "      <td>Bladder</td>\n",
       "      <td>NaN</td>\n",
       "      <td>M</td>\n",
       "    </tr>\n",
       "    <tr>\n",
       "      <th>4</th>\n",
       "      <td>10X_P4_4</td>\n",
       "      <td>3-M-9</td>\n",
       "      <td>Bladder</td>\n",
       "      <td>NaN</td>\n",
       "      <td>M</td>\n",
       "    </tr>\n",
       "  </tbody>\n",
       "</table>\n",
       "</div>"
      ],
      "text/plain": [
       "    channel mouse.id   tissue    subtissue mouse.sex\n",
       "0  10X_P4_0    3-M-8   Tongue          NaN         M\n",
       "1  10X_P4_1    3-M-9   Tongue          NaN         M\n",
       "2  10X_P4_2  3-M-8/9    Liver  hepatocytes         M\n",
       "3  10X_P4_3    3-M-8  Bladder          NaN         M\n",
       "4  10X_P4_4    3-M-9  Bladder          NaN         M"
      ]
     },
     "execution_count": 10,
     "metadata": {},
     "output_type": "execute_result"
    }
   ],
   "source": [
    "# Load channel metadata\n",
    "meta = pd.read_csv( \"metadata_droplet.csv\" )\n",
    "meta.head()"
   ]
  },
  {
   "cell_type": "code",
   "execution_count": 14,
   "metadata": {},
   "outputs": [],
   "source": [
    "# Merge in channel metadata\n",
    "ac.obs = ac.obs.merge( meta, how=\"left\", on=\"channel\" )"
   ]
  },
  {
   "cell_type": "code",
   "execution_count": 15,
   "metadata": {
    "scrolled": true
   },
   "outputs": [],
   "source": [
    "ac.write( \"Tabula_muris_10x.h5ad\" )"
   ]
  }
 ],
 "metadata": {
  "kernelspec": {
   "display_name": "Python 3.6",
   "language": "python",
   "name": "python3.6"
  },
  "language_info": {
   "codemirror_mode": {
    "name": "ipython",
    "version": 3
   },
   "file_extension": ".py",
   "mimetype": "text/x-python",
   "name": "python",
   "nbconvert_exporter": "python",
   "pygments_lexer": "ipython3",
   "version": "3.6.5"
  }
 },
 "nbformat": 4,
 "nbformat_minor": 2
}
